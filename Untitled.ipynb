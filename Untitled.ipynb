{
 "cells": [
  {
   "cell_type": "code",
   "execution_count": 1,
   "metadata": {},
   "outputs": [],
   "source": [
    "import pandas as pd\n",
    "import os, sys\n",
    "import numpy as np"
   ]
  },
  {
   "cell_type": "code",
   "execution_count": null,
   "metadata": {},
   "outputs": [],
   "source": [
    "\n"
   ]
  },
  {
   "cell_type": "code",
   "execution_count": 2,
   "metadata": {},
   "outputs": [],
   "source": [
    "up_dir = os.getcwd()\n",
    "\n",
    "#subj_list = [f for f in os.listdir(up_dir + '/data/subjects') if f.startswith('subject')]\n",
    "#subj_list"
   ]
  },
  {
   "cell_type": "code",
   "execution_count": 3,
   "metadata": {},
   "outputs": [
    {
     "data": {
      "text/plain": [
       "'/Users/Ralf/My_Cloud/RalfsFunctions/GITHUB/nomcomm/STUDENT_THESES/MuseERP_Nolan'"
      ]
     },
     "execution_count": 3,
     "metadata": {},
     "output_type": "execute_result"
    }
   ],
   "source": [
    "up_dir"
   ]
  },
  {
   "cell_type": "code",
   "execution_count": 4,
   "metadata": {},
   "outputs": [],
   "source": [
    "#curr_df"
   ]
  },
  {
   "cell_type": "code",
   "execution_count": 10,
   "metadata": {},
   "outputs": [
    {
     "name": "stdout",
     "output_type": "stream",
     "text": [
      "current sub:23\n",
      "current session:1\n",
      "/Users/Ralf/My_Cloud/RalfsFunctions/GITHUB/nomcomm/STUDENT_THESES/MuseERP_Nolan/data/subjects/subject23/session1/recording_2020-02-10-15.17.06.csv\n",
      "current session:2\n",
      "/Users/Ralf/My_Cloud/RalfsFunctions/GITHUB/nomcomm/STUDENT_THESES/MuseERP_Nolan/data/subjects/subject23/session2/recording_2020-02-10-15.20.43.csv\n",
      "current sub:24\n",
      "current session:1\n",
      "/Users/Ralf/My_Cloud/RalfsFunctions/GITHUB/nomcomm/STUDENT_THESES/MuseERP_Nolan/data/subjects/subject24/session1/recording_2020-02-10-16.04.08.csv\n",
      "current session:2\n",
      "/Users/Ralf/My_Cloud/RalfsFunctions/GITHUB/nomcomm/STUDENT_THESES/MuseERP_Nolan/data/subjects/subject24/session2/recording_2020-02-10-16.07.47.csv\n",
      "current sub:25\n",
      "current session:1\n",
      "/Users/Ralf/My_Cloud/RalfsFunctions/GITHUB/nomcomm/STUDENT_THESES/MuseERP_Nolan/data/subjects/subject25/session1/recording_2020-02-10-16.17.26.csv\n",
      "current session:2\n",
      "/Users/Ralf/My_Cloud/RalfsFunctions/GITHUB/nomcomm/STUDENT_THESES/MuseERP_Nolan/data/subjects/subject25/session2/recording_2020-02-10-16.21.11.csv\n",
      "current sub:26\n",
      "current session:1\n",
      "/Users/Ralf/My_Cloud/RalfsFunctions/GITHUB/nomcomm/STUDENT_THESES/MuseERP_Nolan/data/subjects/subject26/session1/recording_2020-02-10-18.06.01.csv\n",
      "current session:2\n",
      "/Users/Ralf/My_Cloud/RalfsFunctions/GITHUB/nomcomm/STUDENT_THESES/MuseERP_Nolan/data/subjects/subject26/session2/recording_2020-02-10-18.10.44.csv\n",
      "current sub:27\n",
      "current session:1\n",
      "/Users/Ralf/My_Cloud/RalfsFunctions/GITHUB/nomcomm/STUDENT_THESES/MuseERP_Nolan/data/subjects/subject27/session1/recording_2020-02-10-18.32.55.csv\n",
      "current session:2\n",
      "/Users/Ralf/My_Cloud/RalfsFunctions/GITHUB/nomcomm/STUDENT_THESES/MuseERP_Nolan/data/subjects/subject27/session2/recording_2020-02-10-18.35.54.csv\n",
      "current sub:28\n",
      "current session:1\n",
      "/Users/Ralf/My_Cloud/RalfsFunctions/GITHUB/nomcomm/STUDENT_THESES/MuseERP_Nolan/data/subjects/subject28/session1/recording_2020-02-10-19.11.13.csv\n",
      "current session:2\n",
      "/Users/Ralf/My_Cloud/RalfsFunctions/GITHUB/nomcomm/STUDENT_THESES/MuseERP_Nolan/data/subjects/subject28/session2/recording_2020-02-10-19.15.01.csv\n",
      "current sub:29\n",
      "current session:1\n",
      "/Users/Ralf/My_Cloud/RalfsFunctions/GITHUB/nomcomm/STUDENT_THESES/MuseERP_Nolan/data/subjects/subject29/session1/recording_2020-02-10-19.22.53.csv\n",
      "current session:2\n",
      "/Users/Ralf/My_Cloud/RalfsFunctions/GITHUB/nomcomm/STUDENT_THESES/MuseERP_Nolan/data/subjects/subject29/session2/recording_2020-02-10-19.26.44.csv\n",
      "current sub:30\n",
      "current session:1\n",
      "/Users/Ralf/My_Cloud/RalfsFunctions/GITHUB/nomcomm/STUDENT_THESES/MuseERP_Nolan/data/subjects/subject30/session1/recording_2020-02-10-20.35.30.csv\n",
      "current session:2\n",
      "/Users/Ralf/My_Cloud/RalfsFunctions/GITHUB/nomcomm/STUDENT_THESES/MuseERP_Nolan/data/subjects/subject30/session2/recording_2020-02-10-20.39.09.csv\n",
      "current sub:31\n",
      "current session:1\n",
      "/Users/Ralf/My_Cloud/RalfsFunctions/GITHUB/nomcomm/STUDENT_THESES/MuseERP_Nolan/data/subjects/subject31/session1/recording_2020-02-11-14.48.37.csv\n",
      "current session:2\n",
      "/Users/Ralf/My_Cloud/RalfsFunctions/GITHUB/nomcomm/STUDENT_THESES/MuseERP_Nolan/data/subjects/subject31/session2/recording_2020-02-11-14.52.01.csv\n",
      "current sub:32\n",
      "current session:1\n",
      "/Users/Ralf/My_Cloud/RalfsFunctions/GITHUB/nomcomm/STUDENT_THESES/MuseERP_Nolan/data/subjects/subject32/session1/recording_2020-02-11-15.32.23.csv\n",
      "current session:2\n",
      "/Users/Ralf/My_Cloud/RalfsFunctions/GITHUB/nomcomm/STUDENT_THESES/MuseERP_Nolan/data/subjects/subject32/session2/recording_2020-02-11-15.35.35.csv\n",
      "current sub:33\n",
      "current session:1\n",
      "/Users/Ralf/My_Cloud/RalfsFunctions/GITHUB/nomcomm/STUDENT_THESES/MuseERP_Nolan/data/subjects/subject33/session1/recording_2020-02-11-15.45.48.csv\n",
      "current session:2\n",
      "/Users/Ralf/My_Cloud/RalfsFunctions/GITHUB/nomcomm/STUDENT_THESES/MuseERP_Nolan/data/subjects/subject33/session2/recording_2020-02-11-15.48.39.csv\n",
      "current sub:34\n",
      "current session:1\n",
      "/Users/Ralf/My_Cloud/RalfsFunctions/GITHUB/nomcomm/STUDENT_THESES/MuseERP_Nolan/data/subjects/subject34/session1/recording_2020-02-11-18.13.28.csv\n",
      "current session:2\n",
      "/Users/Ralf/My_Cloud/RalfsFunctions/GITHUB/nomcomm/STUDENT_THESES/MuseERP_Nolan/data/subjects/subject34/session2/recording_2020-02-11-18.16.39.csv\n"
     ]
    }
   ],
   "source": [
    "for curr_sub in range(23, 35):\n",
    "    print(\"current sub:\" + str(curr_sub))\n",
    "    for curr_session in range(1,3):\n",
    "            print(\"current session:\" + str(curr_session))\n",
    "            curr_sub_path = up_dir + '/data/subjects/subject' + str(curr_sub) + '/session' +str(curr_session) + '/'\n",
    "            curr_file = os.listdir(curr_sub_path)\n",
    "            curr_file_path = curr_sub_path + curr_file[0]\n",
    "            print(curr_file_path)\n",
    "\n",
    "            curr_df = pd.read_csv(curr_file_path)\n",
    "            curr_df = curr_df[['timestamps','TP9','AF7','AF8','TP10','Right AUX','Marker0']]\n",
    "            curr_df = curr_df.set_index('timestamps')\n",
    "            curr_df.to_csv(curr_file_path)"
   ]
  },
  {
   "cell_type": "code",
   "execution_count": null,
   "metadata": {},
   "outputs": [],
   "source": []
  },
  {
   "cell_type": "code",
   "execution_count": null,
   "metadata": {},
   "outputs": [],
   "source": []
  },
  {
   "cell_type": "code",
   "execution_count": null,
   "metadata": {},
   "outputs": [],
   "source": []
  },
  {
   "cell_type": "code",
   "execution_count": 35,
   "metadata": {},
   "outputs": [
    {
     "name": "stdout",
     "output_type": "stream",
     "text": [
      "current sub:23\n",
      "current session:1\n",
      "/Users/Ralf/My_Cloud/RalfsFunctions/GITHUB/nomcomm/STUDENT_THESES/MuseERP_Nolan/data/subjects/subject23/session1/recording_2020-02-10-15.17.06.csv\n",
      "current session:2\n",
      "/Users/Ralf/My_Cloud/RalfsFunctions/GITHUB/nomcomm/STUDENT_THESES/MuseERP_Nolan/data/subjects/subject23/session2/recording_2020-02-10-15.20.43.csv\n",
      "current sub:24\n",
      "current session:1\n",
      "/Users/Ralf/My_Cloud/RalfsFunctions/GITHUB/nomcomm/STUDENT_THESES/MuseERP_Nolan/data/subjects/subject24/session1/recording_2020-02-10-16.04.08.csv\n",
      "current session:2\n",
      "/Users/Ralf/My_Cloud/RalfsFunctions/GITHUB/nomcomm/STUDENT_THESES/MuseERP_Nolan/data/subjects/subject24/session2/recording_2020-02-10-16.07.47.csv\n",
      "current sub:25\n",
      "current session:1\n",
      "/Users/Ralf/My_Cloud/RalfsFunctions/GITHUB/nomcomm/STUDENT_THESES/MuseERP_Nolan/data/subjects/subject25/session1/recording_2020-02-10-16.17.26.csv\n",
      "current session:2\n",
      "/Users/Ralf/My_Cloud/RalfsFunctions/GITHUB/nomcomm/STUDENT_THESES/MuseERP_Nolan/data/subjects/subject25/session2/recording_2020-02-10-16.21.11.csv\n",
      "current sub:26\n",
      "current session:1\n",
      "/Users/Ralf/My_Cloud/RalfsFunctions/GITHUB/nomcomm/STUDENT_THESES/MuseERP_Nolan/data/subjects/subject26/session1/recording_2020-02-10-18.06.01.csv\n",
      "current session:2\n",
      "/Users/Ralf/My_Cloud/RalfsFunctions/GITHUB/nomcomm/STUDENT_THESES/MuseERP_Nolan/data/subjects/subject26/session2/recording_2020-02-10-18.10.44.csv\n",
      "current sub:27\n",
      "current session:1\n",
      "/Users/Ralf/My_Cloud/RalfsFunctions/GITHUB/nomcomm/STUDENT_THESES/MuseERP_Nolan/data/subjects/subject27/session1/recording_2020-02-10-18.32.55.csv\n",
      "current session:2\n",
      "/Users/Ralf/My_Cloud/RalfsFunctions/GITHUB/nomcomm/STUDENT_THESES/MuseERP_Nolan/data/subjects/subject27/session2/recording_2020-02-10-18.35.54.csv\n",
      "current sub:28\n",
      "current session:1\n",
      "/Users/Ralf/My_Cloud/RalfsFunctions/GITHUB/nomcomm/STUDENT_THESES/MuseERP_Nolan/data/subjects/subject28/session1/recording_2020-02-10-19.11.13.csv\n",
      "current session:2\n",
      "/Users/Ralf/My_Cloud/RalfsFunctions/GITHUB/nomcomm/STUDENT_THESES/MuseERP_Nolan/data/subjects/subject28/session2/recording_2020-02-10-19.15.01.csv\n",
      "current sub:29\n",
      "current session:1\n",
      "/Users/Ralf/My_Cloud/RalfsFunctions/GITHUB/nomcomm/STUDENT_THESES/MuseERP_Nolan/data/subjects/subject29/session1/recording_2020-02-10-19.22.53.csv\n",
      "current session:2\n",
      "/Users/Ralf/My_Cloud/RalfsFunctions/GITHUB/nomcomm/STUDENT_THESES/MuseERP_Nolan/data/subjects/subject29/session2/recording_2020-02-10-19.26.44.csv\n",
      "current sub:30\n",
      "current session:1\n",
      "/Users/Ralf/My_Cloud/RalfsFunctions/GITHUB/nomcomm/STUDENT_THESES/MuseERP_Nolan/data/subjects/subject30/session1/recording_2020-02-10-20.35.30.csv\n",
      "current session:2\n",
      "/Users/Ralf/My_Cloud/RalfsFunctions/GITHUB/nomcomm/STUDENT_THESES/MuseERP_Nolan/data/subjects/subject30/session2/recording_2020-02-10-20.39.09.csv\n",
      "current sub:31\n",
      "current session:1\n",
      "/Users/Ralf/My_Cloud/RalfsFunctions/GITHUB/nomcomm/STUDENT_THESES/MuseERP_Nolan/data/subjects/subject31/session1/recording_2020-02-11-14.48.37.csv\n",
      "current session:2\n",
      "/Users/Ralf/My_Cloud/RalfsFunctions/GITHUB/nomcomm/STUDENT_THESES/MuseERP_Nolan/data/subjects/subject31/session2/recording_2020-02-11-14.52.01.csv\n",
      "current sub:32\n",
      "current session:1\n",
      "/Users/Ralf/My_Cloud/RalfsFunctions/GITHUB/nomcomm/STUDENT_THESES/MuseERP_Nolan/data/subjects/subject32/session1/recording_2020-02-11-15.32.23.csv\n",
      "current session:2\n",
      "/Users/Ralf/My_Cloud/RalfsFunctions/GITHUB/nomcomm/STUDENT_THESES/MuseERP_Nolan/data/subjects/subject32/session2/recording_2020-02-11-15.35.35.csv\n",
      "current sub:33\n",
      "current session:1\n",
      "/Users/Ralf/My_Cloud/RalfsFunctions/GITHUB/nomcomm/STUDENT_THESES/MuseERP_Nolan/data/subjects/subject33/session1/recording_2020-02-11-15.45.48.csv\n",
      "current session:2\n",
      "/Users/Ralf/My_Cloud/RalfsFunctions/GITHUB/nomcomm/STUDENT_THESES/MuseERP_Nolan/data/subjects/subject33/session2/recording_2020-02-11-15.48.39.csv\n",
      "current sub:34\n",
      "current session:1\n",
      "/Users/Ralf/My_Cloud/RalfsFunctions/GITHUB/nomcomm/STUDENT_THESES/MuseERP_Nolan/data/subjects/subject34/session1/recording_2020-02-11-18.13.28.csv\n",
      "current session:2\n",
      "/Users/Ralf/My_Cloud/RalfsFunctions/GITHUB/nomcomm/STUDENT_THESES/MuseERP_Nolan/data/subjects/subject34/session2/recording_2020-02-11-18.16.39.csv\n"
     ]
    }
   ],
   "source": [
    "for curr_sub in range(23, 35):\n",
    "    print(\"current sub:\" + str(curr_sub))\n",
    "    for curr_session in range(1,3):\n",
    "            print(\"current session:\" + str(curr_session))\n",
    "            curr_sub_path = up_dir + '/data/subjects/subject' + str(curr_sub) + '/session' +str(curr_session) + '/'\n",
    "            curr_file = os.listdir(curr_sub_path)\n",
    "            curr_file_path = curr_sub_path + curr_file[0]\n",
    "            print(curr_file_path)\n",
    "\n",
    "            curr_df = pd.read_csv(curr_file_path)\n",
    "            curr_df['Right AUX'] = np.zeros(len(curr_df))\n",
    "\n",
    "            curr_df = curr_df[['timestamps', 'TP9', 'AF7', 'AF8', 'TP10', 'Right AUX', 'Marker0']]\n",
    "\n",
    "            curr_df.to_csv(curr_file_path)\n"
   ]
  },
  {
   "cell_type": "code",
   "execution_count": null,
   "metadata": {},
   "outputs": [],
   "source": []
  },
  {
   "cell_type": "code",
   "execution_count": 32,
   "metadata": {},
   "outputs": [],
   "source": []
  },
  {
   "cell_type": "code",
   "execution_count": null,
   "metadata": {},
   "outputs": [],
   "source": []
  }
 ],
 "metadata": {
  "kernelspec": {
   "display_name": "Python [conda env:muse] *",
   "language": "python",
   "name": "conda-env-muse-py"
  },
  "language_info": {
   "codemirror_mode": {
    "name": "ipython",
    "version": 3
   },
   "file_extension": ".py",
   "mimetype": "text/x-python",
   "name": "python",
   "nbconvert_exporter": "python",
   "pygments_lexer": "ipython3",
   "version": "3.6.7"
  }
 },
 "nbformat": 4,
 "nbformat_minor": 2
}
